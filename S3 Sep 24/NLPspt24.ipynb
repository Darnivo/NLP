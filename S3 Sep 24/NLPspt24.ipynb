{
 "cells": [
  {
   "cell_type": "code",
   "execution_count": 1,
   "metadata": {},
   "outputs": [],
   "source": [
    "import numpy as np"
   ]
  },
  {
   "cell_type": "code",
   "execution_count": 2,
   "metadata": {},
   "outputs": [],
   "source": [
    "import nltk"
   ]
  },
  {
   "cell_type": "code",
   "execution_count": 3,
   "metadata": {},
   "outputs": [],
   "source": [
    "from nltk.tokenize import  word_tokenize"
   ]
  },
  {
   "cell_type": "code",
   "execution_count": 4,
   "metadata": {},
   "outputs": [],
   "source": [
    "sentence = \"I like your watch. I love to watch movies\""
   ]
  },
  {
   "cell_type": "code",
   "execution_count": 5,
   "metadata": {},
   "outputs": [
    {
     "name": "stdout",
     "output_type": "stream",
     "text": [
      "['I', 'like', 'your', 'watch', '.', 'I', 'love', 'to', 'watch', 'movies']\n"
     ]
    }
   ],
   "source": [
    "tokenized = word_tokenize(sentence)\n",
    "print(tokenized)"
   ]
  },
  {
   "cell_type": "code",
   "execution_count": 10,
   "metadata": {},
   "outputs": [],
   "source": [
    "from string import punctuation\n",
    "cleaned = [word.lower() for word in tokenized if word not in punctuation]"
   ]
  },
  {
   "cell_type": "code",
   "execution_count": 11,
   "metadata": {},
   "outputs": [
    {
     "name": "stdout",
     "output_type": "stream",
     "text": [
      "['i', 'like', 'your', 'watch', 'i', 'love', 'to', 'watch', 'movies']\n"
     ]
    }
   ],
   "source": [
    "print(cleaned)"
   ]
  },
  {
   "cell_type": "code",
   "execution_count": 13,
   "metadata": {},
   "outputs": [
    {
     "name": "stdout",
     "output_type": "stream",
     "text": [
      "[('i', 'NNS'), ('like', 'IN'), ('your', 'PRP$'), ('watch', 'NN'), ('i', 'NN'), ('love', 'VBP'), ('to', 'TO'), ('watch', 'VB'), ('movies', 'NNS')]\n"
     ]
    }
   ],
   "source": [
    "#POS tagging\n",
    "from nltk.tag import  pos_tag\n",
    "tagged = pos_tag(cleaned)\n",
    "print(tagged)"
   ]
  },
  {
   "cell_type": "code",
   "execution_count": 16,
   "metadata": {},
   "outputs": [
    {
     "name": "stderr",
     "output_type": "stream",
     "text": [
      "[nltk_data] Error loading tagsets: <urlopen error [WinError 10060] A\n",
      "[nltk_data]     connection attempt failed because the connected party\n",
      "[nltk_data]     did not properly respond after a period of time, or\n",
      "[nltk_data]     established connection failed because connected host\n",
      "[nltk_data]     has failed to respond>\n"
     ]
    },
    {
     "data": {
      "text/plain": [
       "False"
      ]
     },
     "execution_count": 16,
     "metadata": {},
     "output_type": "execute_result"
    }
   ],
   "source": [
    "nltk.download('tagsets')"
   ]
  },
  {
   "cell_type": "code",
   "execution_count": 34,
   "metadata": {},
   "outputs": [
    {
     "name": "stdout",
     "output_type": "stream",
     "text": [
      "VBP: verb, present tense, not 3rd person singular\n",
      "    predominate wrap resort sue twist spill cure lengthen brush terminate\n",
      "    appear tend stray glisten obtain comprise detest tease attract\n",
      "    emphasize mold postpone sever return wag ...\n"
     ]
    }
   ],
   "source": [
    "nltk.help.upenn_tagset('VBP')"
   ]
  },
  {
   "cell_type": "code",
   "execution_count": 17,
   "metadata": {},
   "outputs": [
    {
     "data": {
      "text/plain": [
       "['C:\\\\Users\\\\prk/nltk_data',\n",
       " 'c:\\\\Anaconda3\\\\envs\\\\nlp\\\\nltk_data',\n",
       " 'c:\\\\Anaconda3\\\\envs\\\\nlp\\\\share\\\\nltk_data',\n",
       " 'c:\\\\Anaconda3\\\\envs\\\\nlp\\\\lib\\\\nltk_data',\n",
       " 'C:\\\\Users\\\\prk\\\\AppData\\\\Roaming\\\\nltk_data',\n",
       " 'C:\\\\nltk_data',\n",
       " 'D:\\\\nltk_data',\n",
       " 'E:\\\\nltk_data']"
      ]
     },
     "execution_count": 17,
     "metadata": {},
     "output_type": "execute_result"
    }
   ],
   "source": [
    "nltk.data.path"
   ]
  },
  {
   "cell_type": "code",
   "execution_count": 20,
   "metadata": {},
   "outputs": [
    {
     "name": "stdout",
     "output_type": "stream",
     "text": [
      "i:2\n",
      "watch:2\n",
      "like:1\n",
      "your:1\n",
      "love:1\n",
      "to:1\n",
      "movies:1\n"
     ]
    }
   ],
   "source": [
    "from nltk.probability import FreqDist\n",
    "\n",
    "fd = FreqDist(cleaned)\n",
    "for word,count in fd.most_common():\n",
    "    print(f'{word}:{count}')"
   ]
  },
  {
   "cell_type": "code",
   "execution_count": 22,
   "metadata": {},
   "outputs": [],
   "source": [
    "#WordNet\n",
    "from nltk.corpus import  wordnet"
   ]
  },
  {
   "cell_type": "code",
   "execution_count": 45,
   "metadata": {},
   "outputs": [
    {
     "name": "stdout",
     "output_type": "stream",
     "text": [
      "Synset('freaky.s.01'):strange and somewhat frightening\n",
      "Synonym: freaky\n",
      "Synset('bizarre.s.01'):conspicuously or grossly unconventional or unusual\n",
      "Synonym: bizarre\n",
      "Synonym: eccentric\n",
      "Synonym: freakish\n",
      "Synonym: freaky\n",
      "Synonym: flaky\n",
      "Synonym: flakey\n",
      "Synonym: gonzo\n",
      "Synonym: off-the-wall\n",
      "Synonym: outlandish\n",
      "Synonym: outre\n"
     ]
    }
   ],
   "source": [
    "word = 'freaky'\n",
    "synsets =wordnet.synsets(word)\n",
    "\n",
    "for synset in synsets:\n",
    "    print(f'{synset}:{synset.definition()}')\n",
    "    for lemma in synset.lemmas():\n",
    "        print(f'Synonym: {lemma.name()}')\n",
    "        for antonym in lemma.antonyms():\n",
    "            print(f'Antonym: {antonym.name()}')"
   ]
  }
 ],
 "metadata": {
  "kernelspec": {
   "display_name": "nlp",
   "language": "python",
   "name": "python3"
  },
  "language_info": {
   "codemirror_mode": {
    "name": "ipython",
    "version": 3
   },
   "file_extension": ".py",
   "mimetype": "text/x-python",
   "name": "python",
   "nbconvert_exporter": "python",
   "pygments_lexer": "ipython3",
   "version": "3.12.4"
  }
 },
 "nbformat": 4,
 "nbformat_minor": 2
}
