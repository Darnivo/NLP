{
 "cells": [
  {
   "cell_type": "markdown",
   "metadata": {},
   "source": [
    "Stemming & Lemmatize > reduce dimensions\n",
    "\n",
    "Stemming > remove prefix & suffix\n",
    "    Diff algs, include porter, snowball, lancaster\n",
    "    \n",
    "        Porter > used for en based app\n",
    "        Snowball > specialized, for verbose language\n",
    "        Lancaster > more aggresive (ignores more context), removes all affixations to be faster"
   ]
  },
  {
   "cell_type": "code",
   "execution_count": 34,
   "metadata": {},
   "outputs": [],
   "source": [
    "import nltk"
   ]
  },
  {
   "cell_type": "code",
   "execution_count": 2,
   "metadata": {},
   "outputs": [],
   "source": [
    "from nltk.stem import PorterStemmer\n",
    "from nltk.stem import SnowballStemmer\n",
    "from nltk.stem import LancasterStemmer"
   ]
  },
  {
   "cell_type": "code",
   "execution_count": 37,
   "metadata": {},
   "outputs": [
    {
     "name": "stderr",
     "output_type": "stream",
     "text": [
      "[nltk_data] Downloading package punkt to\n",
      "[nltk_data]     C:\\Users\\prk\\AppData\\Roaming\\nltk_data...\n",
      "[nltk_data]   Package punkt is already up-to-date!\n"
     ]
    },
    {
     "data": {
      "text/plain": [
       "True"
      ]
     },
     "execution_count": 37,
     "metadata": {},
     "output_type": "execute_result"
    }
   ],
   "source": [
    "nltk.download('punkt')"
   ]
  },
  {
   "cell_type": "code",
   "execution_count": 4,
   "metadata": {},
   "outputs": [
    {
     "data": {
      "text/plain": [
       "<module 'nltk.help' from 'c:\\\\Anaconda3\\\\envs\\\\nlp\\\\Lib\\\\site-packages\\\\nltk\\\\help.py'>"
      ]
     },
     "execution_count": 4,
     "metadata": {},
     "output_type": "execute_result"
    }
   ],
   "source": [
    "nltk.help"
   ]
  },
  {
   "cell_type": "code",
   "execution_count": 5,
   "metadata": {},
   "outputs": [],
   "source": [
    "from nltk.tokenize import word_tokenize"
   ]
  },
  {
   "cell_type": "code",
   "execution_count": 47,
   "metadata": {},
   "outputs": [],
   "source": [
    "txt = \"ran run running came come coming guidance guide guided rock rocked shoot shoot shooter shooting corpora\""
   ]
  },
  {
   "cell_type": "code",
   "execution_count": 48,
   "metadata": {},
   "outputs": [],
   "source": [
    "porter = PorterStemmer()\n",
    "\n",
    "def portStem(text):\n",
    "    w_token = word_tokenize(text)\n",
    "    lemmas = [porter.stem(i) for i in w_token]\n",
    "    return lemmas"
   ]
  },
  {
   "cell_type": "code",
   "execution_count": 49,
   "metadata": {},
   "outputs": [
    {
     "name": "stdout",
     "output_type": "stream",
     "text": [
      "['ran', 'run', 'run', 'came', 'come', 'come', 'guidanc', 'guid', 'guid', 'rock', 'rock', 'shoot', 'shoot', 'shooter', 'shoot', 'corpora']\n"
     ]
    }
   ],
   "source": [
    "print(portStem(txt))"
   ]
  },
  {
   "cell_type": "code",
   "execution_count": 50,
   "metadata": {},
   "outputs": [],
   "source": [
    "snowb = SnowballStemmer(language='english')\n",
    "\n",
    "def snowStem(text):\n",
    "    w_token = word_tokenize(text)\n",
    "    lemmas = [snowb.stem(i) for i in w_token]\n",
    "    return lemmas"
   ]
  },
  {
   "cell_type": "code",
   "execution_count": 51,
   "metadata": {},
   "outputs": [
    {
     "name": "stdout",
     "output_type": "stream",
     "text": [
      "['ran', 'run', 'run', 'came', 'come', 'come', 'guidanc', 'guid', 'guid', 'rock', 'rock', 'shoot', 'shoot', 'shooter', 'shoot', 'corpora']\n"
     ]
    }
   ],
   "source": [
    "print(snowStem(txt))"
   ]
  },
  {
   "cell_type": "code",
   "execution_count": 52,
   "metadata": {},
   "outputs": [],
   "source": [
    "lanca = LancasterStemmer()\n",
    "\n",
    "def lancaStem(text):\n",
    "    w_token = word_tokenize(text)\n",
    "    lemmas = [lanca.stem(i) for i in w_token]\n",
    "    return lemmas"
   ]
  },
  {
   "cell_type": "code",
   "execution_count": 53,
   "metadata": {},
   "outputs": [
    {
     "name": "stdout",
     "output_type": "stream",
     "text": [
      "['ran', 'run', 'run', 'cam', 'com', 'com', 'guid', 'guid', 'guid', 'rock', 'rock', 'shoot', 'shoot', 'shoot', 'shoot', 'corpor']\n"
     ]
    }
   ],
   "source": [
    "print(lancaStem(txt))"
   ]
  },
  {
   "cell_type": "markdown",
   "metadata": {},
   "source": [
    "lemma is more accurate , but is slower, and outputs are actual words (lemmas)\n",
    "\n",
    "we r using dictionary bassed approach (theres ML based as well)"
   ]
  },
  {
   "cell_type": "code",
   "execution_count": 54,
   "metadata": {},
   "outputs": [
    {
     "name": "stderr",
     "output_type": "stream",
     "text": [
      "[nltk_data] Downloading package wordnet to\n",
      "[nltk_data]     C:\\Users\\prk\\AppData\\Roaming\\nltk_data...\n",
      "[nltk_data]   Package wordnet is already up-to-date!\n"
     ]
    },
    {
     "data": {
      "text/plain": [
       "True"
      ]
     },
     "execution_count": 54,
     "metadata": {},
     "output_type": "execute_result"
    }
   ],
   "source": [
    "nltk.download('wordnet')"
   ]
  },
  {
   "cell_type": "code",
   "execution_count": 55,
   "metadata": {},
   "outputs": [],
   "source": [
    "from nltk.stem.wordnet import WordNetLemmatizer"
   ]
  },
  {
   "cell_type": "code",
   "execution_count": 56,
   "metadata": {},
   "outputs": [],
   "source": [
    "lemmer = WordNetLemmatizer()\n",
    "\n",
    "def lemmatize(text):\n",
    "    w_token = word_tokenize(text)\n",
    "    lemmas = [lemmer.lemmatize(w) for w in w_token]\n",
    "    return lemmas"
   ]
  },
  {
   "cell_type": "code",
   "execution_count": 57,
   "metadata": {},
   "outputs": [
    {
     "name": "stdout",
     "output_type": "stream",
     "text": [
      "og      = ran run running came come coming guidance guide guided rock rocked shoot shoot shooter shooting corpora\n",
      "porter  = ['ran', 'run', 'run', 'came', 'come', 'come', 'guidanc', 'guid', 'guid', 'rock', 'rock', 'shoot', 'shoot', 'shooter', 'shoot', 'corpora']\n",
      "lemm    = ['ran', 'run', 'running', 'came', 'come', 'coming', 'guidance', 'guide', 'guided', 'rock', 'rocked', 'shoot', 'shoot', 'shooter', 'shooting', 'corpus']\n"
     ]
    }
   ],
   "source": [
    "print(f'og      = {txt}')\n",
    "print(f'porter  = {portStem(txt)}')\n",
    "print(f'lemm    = {lemmatize(txt)}')"
   ]
  }
 ],
 "metadata": {
  "kernelspec": {
   "display_name": "nlp",
   "language": "python",
   "name": "python3"
  },
  "language_info": {
   "codemirror_mode": {
    "name": "ipython",
    "version": 3
   },
   "file_extension": ".py",
   "mimetype": "text/x-python",
   "name": "python",
   "nbconvert_exporter": "python",
   "pygments_lexer": "ipython3",
   "version": "3.12.4"
  }
 },
 "nbformat": 4,
 "nbformat_minor": 2
}
