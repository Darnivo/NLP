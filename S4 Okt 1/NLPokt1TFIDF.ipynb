{
 "cells": [
  {
   "cell_type": "code",
   "execution_count": 1,
   "metadata": {},
   "outputs": [],
   "source": [
    "#v Statistical methods to process data\n",
    "# TF-IDF > term frequency-inverse document frequency\n",
    "# TF     > number of times a word appears in a document\n",
    "# IDF    > log(N/n) where N is the number of documents and n is the number of documents a word appears in\n",
    "\n",
    "\n",
    "#Cosine similarity"
   ]
  },
  {
   "cell_type": "code",
   "execution_count": 2,
   "metadata": {},
   "outputs": [],
   "source": [
    "# import nltk"
   ]
  },
  {
   "cell_type": "code",
   "execution_count": 3,
   "metadata": {},
   "outputs": [],
   "source": [
    "import math\n",
    "import pandas as pd"
   ]
  },
  {
   "cell_type": "code",
   "execution_count": 4,
   "metadata": {},
   "outputs": [],
   "source": [
    "ex_sent1 = \"in the beginning god created the heavens and the earth and the earth was without form and void\"\n",
    "# ex_sent1 = \"in the beginning god created\"\n",
    "ex_sent2 = \"and god said let there be light and there was light and god saw that the light was good\""
   ]
  },
  {
   "cell_type": "code",
   "execution_count": 5,
   "metadata": {},
   "outputs": [],
   "source": [
    "#split\n",
    "ex_sent1 = ex_sent1.split(\" \")\n",
    "ex_sent2 = ex_sent2.split(\" \")"
   ]
  },
  {
   "cell_type": "code",
   "execution_count": 6,
   "metadata": {},
   "outputs": [
    {
     "name": "stdout",
     "output_type": "stream",
     "text": [
      "['in', 'the', 'beginning', 'god', 'created', 'the', 'heavens', 'and', 'the', 'earth', 'and', 'the', 'earth', 'was', 'without', 'form', 'and', 'void']\n"
     ]
    }
   ],
   "source": [
    "print(ex_sent1)"
   ]
  },
  {
   "cell_type": "code",
   "execution_count": 7,
   "metadata": {},
   "outputs": [
    {
     "name": "stdout",
     "output_type": "stream",
     "text": [
      "first sentence: ['in', 'the', 'beginning', 'god', 'created', 'the', 'heavens', 'and', 'the', 'earth', 'and', 'the', 'earth', 'was', 'without', 'form', 'and', 'void']\n",
      "second sentence: ['and', 'god', 'said', 'let', 'there', 'be', 'light', 'and', 'there', 'was', 'light', 'and', 'god', 'saw', 'that', 'the', 'light', 'was', 'good']\n"
     ]
    }
   ],
   "source": [
    "print(f'first sentence: {ex_sent1}')\n",
    "print(f'second sentence: {ex_sent2}')"
   ]
  },
  {
   "cell_type": "code",
   "execution_count": 8,
   "metadata": {},
   "outputs": [],
   "source": [
    "#combine 1 & 2 into a list\n",
    "list1 = set(ex_sent1).union(set(ex_sent2))\n",
    "\n",
    "#create dictionary)\n",
    "wDictA = dict.fromkeys(list1, 0)\n",
    "#                           ^ set default value to 0\n",
    "wDictB = dict.fromkeys(list1    , 0)"
   ]
  },
  {
   "cell_type": "code",
   "execution_count": 9,
   "metadata": {},
   "outputs": [],
   "source": [
    "#Assign appropriate values to the dictionary\n",
    "for word in ex_sent1:\n",
    "    wDictA[word] += 1\n",
    "for word in ex_sent2:\n",
    "    wDictB[word] += 1"
   ]
  },
  {
   "cell_type": "code",
   "execution_count": 10,
   "metadata": {},
   "outputs": [
    {
     "data": {
      "text/plain": [
       "{'good': 0,\n",
       " 'god': 1,\n",
       " 'heavens': 1,\n",
       " 'saw': 0,\n",
       " 'in': 1,\n",
       " 'and': 3,\n",
       " 'be': 0,\n",
       " 'light': 0,\n",
       " 'form': 1,\n",
       " 'there': 0,\n",
       " 'let': 0,\n",
       " 'the': 4,\n",
       " 'was': 1,\n",
       " 'beginning': 1,\n",
       " 'without': 1,\n",
       " 'created': 1,\n",
       " 'earth': 2,\n",
       " 'said': 0,\n",
       " 'void': 1,\n",
       " 'that': 0}"
      ]
     },
     "execution_count": 10,
     "metadata": {},
     "output_type": "execute_result"
    }
   ],
   "source": [
    "wDictA"
   ]
  },
  {
   "cell_type": "code",
   "execution_count": 11,
   "metadata": {},
   "outputs": [
    {
     "data": {
      "text/html": [
       "<div>\n",
       "<style scoped>\n",
       "    .dataframe tbody tr th:only-of-type {\n",
       "        vertical-align: middle;\n",
       "    }\n",
       "\n",
       "    .dataframe tbody tr th {\n",
       "        vertical-align: top;\n",
       "    }\n",
       "\n",
       "    .dataframe thead th {\n",
       "        text-align: right;\n",
       "    }\n",
       "</style>\n",
       "<table border=\"1\" class=\"dataframe\">\n",
       "  <thead>\n",
       "    <tr style=\"text-align: right;\">\n",
       "      <th></th>\n",
       "      <th>good</th>\n",
       "      <th>god</th>\n",
       "      <th>heavens</th>\n",
       "      <th>saw</th>\n",
       "      <th>in</th>\n",
       "      <th>and</th>\n",
       "      <th>be</th>\n",
       "      <th>light</th>\n",
       "      <th>form</th>\n",
       "      <th>there</th>\n",
       "      <th>let</th>\n",
       "      <th>the</th>\n",
       "      <th>was</th>\n",
       "      <th>beginning</th>\n",
       "      <th>without</th>\n",
       "      <th>created</th>\n",
       "      <th>earth</th>\n",
       "      <th>said</th>\n",
       "      <th>void</th>\n",
       "      <th>that</th>\n",
       "    </tr>\n",
       "  </thead>\n",
       "  <tbody>\n",
       "    <tr>\n",
       "      <th>0</th>\n",
       "      <td>0</td>\n",
       "      <td>1</td>\n",
       "      <td>1</td>\n",
       "      <td>0</td>\n",
       "      <td>1</td>\n",
       "      <td>3</td>\n",
       "      <td>0</td>\n",
       "      <td>0</td>\n",
       "      <td>1</td>\n",
       "      <td>0</td>\n",
       "      <td>0</td>\n",
       "      <td>4</td>\n",
       "      <td>1</td>\n",
       "      <td>1</td>\n",
       "      <td>1</td>\n",
       "      <td>1</td>\n",
       "      <td>2</td>\n",
       "      <td>0</td>\n",
       "      <td>1</td>\n",
       "      <td>0</td>\n",
       "    </tr>\n",
       "    <tr>\n",
       "      <th>1</th>\n",
       "      <td>1</td>\n",
       "      <td>2</td>\n",
       "      <td>0</td>\n",
       "      <td>1</td>\n",
       "      <td>0</td>\n",
       "      <td>3</td>\n",
       "      <td>1</td>\n",
       "      <td>3</td>\n",
       "      <td>0</td>\n",
       "      <td>2</td>\n",
       "      <td>1</td>\n",
       "      <td>1</td>\n",
       "      <td>2</td>\n",
       "      <td>0</td>\n",
       "      <td>0</td>\n",
       "      <td>0</td>\n",
       "      <td>0</td>\n",
       "      <td>1</td>\n",
       "      <td>0</td>\n",
       "      <td>1</td>\n",
       "    </tr>\n",
       "  </tbody>\n",
       "</table>\n",
       "</div>"
      ],
      "text/plain": [
       "   good  god  heavens  saw  in  and  be  light  form  there  let  the  was  \\\n",
       "0     0    1        1    0   1    3   0      0     1      0    0    4    1   \n",
       "1     1    2        0    1   0    3   1      3     0      2    1    1    2   \n",
       "\n",
       "   beginning  without  created  earth  said  void  that  \n",
       "0          1        1        1      2     0     1     0  \n",
       "1          0        0        0      0     1     0     1  "
      ]
     },
     "execution_count": 11,
     "metadata": {},
     "output_type": "execute_result"
    }
   ],
   "source": [
    "#visualize\n",
    "pd.DataFrame([wDictA, wDictB])"
   ]
  },
  {
   "cell_type": "markdown",
   "metadata": {},
   "source": [
    "# TF-DF"
   ]
  },
  {
   "cell_type": "code",
   "execution_count": 12,
   "metadata": {},
   "outputs": [],
   "source": [
    "def tf(wordDict, doc):\n",
    "    tfDict = {}\n",
    "    docCount = len(doc)\n",
    "    for word, count in wordDict.items():\n",
    "        tfDict[word] = count / docCount\n",
    "    return tfDict"
   ]
  },
  {
   "cell_type": "code",
   "execution_count": 13,
   "metadata": {},
   "outputs": [],
   "source": [
    "tf1 = tf(wDictA, ex_sent1)\n",
    "tf2 = tf(wDictB, ex_sent2)"
   ]
  },
  {
   "cell_type": "code",
   "execution_count": 14,
   "metadata": {},
   "outputs": [
    {
     "data": {
      "text/html": [
       "<div>\n",
       "<style scoped>\n",
       "    .dataframe tbody tr th:only-of-type {\n",
       "        vertical-align: middle;\n",
       "    }\n",
       "\n",
       "    .dataframe tbody tr th {\n",
       "        vertical-align: top;\n",
       "    }\n",
       "\n",
       "    .dataframe thead th {\n",
       "        text-align: right;\n",
       "    }\n",
       "</style>\n",
       "<table border=\"1\" class=\"dataframe\">\n",
       "  <thead>\n",
       "    <tr style=\"text-align: right;\">\n",
       "      <th></th>\n",
       "      <th>good</th>\n",
       "      <th>god</th>\n",
       "      <th>heavens</th>\n",
       "      <th>saw</th>\n",
       "      <th>in</th>\n",
       "      <th>and</th>\n",
       "      <th>be</th>\n",
       "      <th>light</th>\n",
       "      <th>form</th>\n",
       "      <th>there</th>\n",
       "      <th>let</th>\n",
       "      <th>the</th>\n",
       "      <th>was</th>\n",
       "      <th>beginning</th>\n",
       "      <th>without</th>\n",
       "      <th>created</th>\n",
       "      <th>earth</th>\n",
       "      <th>said</th>\n",
       "      <th>void</th>\n",
       "      <th>that</th>\n",
       "    </tr>\n",
       "  </thead>\n",
       "  <tbody>\n",
       "    <tr>\n",
       "      <th>0</th>\n",
       "      <td>0.000000</td>\n",
       "      <td>0.055556</td>\n",
       "      <td>0.055556</td>\n",
       "      <td>0.000000</td>\n",
       "      <td>0.055556</td>\n",
       "      <td>0.166667</td>\n",
       "      <td>0.000000</td>\n",
       "      <td>0.000000</td>\n",
       "      <td>0.055556</td>\n",
       "      <td>0.000000</td>\n",
       "      <td>0.000000</td>\n",
       "      <td>0.222222</td>\n",
       "      <td>0.055556</td>\n",
       "      <td>0.055556</td>\n",
       "      <td>0.055556</td>\n",
       "      <td>0.055556</td>\n",
       "      <td>0.111111</td>\n",
       "      <td>0.000000</td>\n",
       "      <td>0.055556</td>\n",
       "      <td>0.000000</td>\n",
       "    </tr>\n",
       "    <tr>\n",
       "      <th>1</th>\n",
       "      <td>0.052632</td>\n",
       "      <td>0.105263</td>\n",
       "      <td>0.000000</td>\n",
       "      <td>0.052632</td>\n",
       "      <td>0.000000</td>\n",
       "      <td>0.157895</td>\n",
       "      <td>0.052632</td>\n",
       "      <td>0.157895</td>\n",
       "      <td>0.000000</td>\n",
       "      <td>0.105263</td>\n",
       "      <td>0.052632</td>\n",
       "      <td>0.052632</td>\n",
       "      <td>0.105263</td>\n",
       "      <td>0.000000</td>\n",
       "      <td>0.000000</td>\n",
       "      <td>0.000000</td>\n",
       "      <td>0.000000</td>\n",
       "      <td>0.052632</td>\n",
       "      <td>0.000000</td>\n",
       "      <td>0.052632</td>\n",
       "    </tr>\n",
       "  </tbody>\n",
       "</table>\n",
       "</div>"
      ],
      "text/plain": [
       "       good       god   heavens       saw        in       and        be  \\\n",
       "0  0.000000  0.055556  0.055556  0.000000  0.055556  0.166667  0.000000   \n",
       "1  0.052632  0.105263  0.000000  0.052632  0.000000  0.157895  0.052632   \n",
       "\n",
       "      light      form     there       let       the       was  beginning  \\\n",
       "0  0.000000  0.055556  0.000000  0.000000  0.222222  0.055556   0.055556   \n",
       "1  0.157895  0.000000  0.105263  0.052632  0.052632  0.105263   0.000000   \n",
       "\n",
       "    without   created     earth      said      void      that  \n",
       "0  0.055556  0.055556  0.111111  0.000000  0.055556  0.000000  \n",
       "1  0.000000  0.000000  0.000000  0.052632  0.000000  0.052632  "
      ]
     },
     "execution_count": 14,
     "metadata": {},
     "output_type": "execute_result"
    }
   ],
   "source": [
    "pd.DataFrame([tf1, tf2])"
   ]
  },
  {
   "cell_type": "code",
   "execution_count": 15,
   "metadata": {},
   "outputs": [],
   "source": [
    "# IDF\n",
    "def idf(docList):\n",
    "    idfDict = {}\n",
    "    N = len(docList)\n",
    "\n",
    "    #                                  v returns a np array\n",
    "    idfDict = dict.fromkeys(docList[0].keys(), 0)\n",
    "    \n",
    "    for word in docList[0].keys():\n",
    "        for d in docList:\n",
    "            if d[word] > 0:\n",
    "                idfDict[word] += 1\n",
    "\n",
    "    for word, val in idfDict.items():\n",
    "        idfDict[word] = math.log2(N /val) \n",
    "\n",
    "    idf_df = pd.DataFrame(list(idfDict.items()), columns=['word', 'idf weight'])\n",
    "\n",
    "    return idf_df"
   ]
  },
  {
   "cell_type": "code",
   "execution_count": 16,
   "metadata": {},
   "outputs": [],
   "source": [
    "\n",
    "idf_df = idf([wDictA, wDictB])"
   ]
  },
  {
   "cell_type": "code",
   "execution_count": 17,
   "metadata": {},
   "outputs": [],
   "source": [
    "def TFIDF(tf, idf):\n",
    "    tfidf = {}\n",
    "    \n",
    "    for word, val in tf.items():\n",
    "        tfidf[word] = val * idf.loc[idf['word'] == word, 'idf weight'].values[0]\n",
    "    return tfidf"
   ]
  },
  {
   "cell_type": "code",
   "execution_count": 18,
   "metadata": {},
   "outputs": [
    {
     "data": {
      "text/html": [
       "<div>\n",
       "<style scoped>\n",
       "    .dataframe tbody tr th:only-of-type {\n",
       "        vertical-align: middle;\n",
       "    }\n",
       "\n",
       "    .dataframe tbody tr th {\n",
       "        vertical-align: top;\n",
       "    }\n",
       "\n",
       "    .dataframe thead th {\n",
       "        text-align: right;\n",
       "    }\n",
       "</style>\n",
       "<table border=\"1\" class=\"dataframe\">\n",
       "  <thead>\n",
       "    <tr style=\"text-align: right;\">\n",
       "      <th></th>\n",
       "      <th>good</th>\n",
       "      <th>god</th>\n",
       "      <th>heavens</th>\n",
       "      <th>saw</th>\n",
       "      <th>in</th>\n",
       "      <th>and</th>\n",
       "      <th>be</th>\n",
       "      <th>light</th>\n",
       "      <th>form</th>\n",
       "      <th>there</th>\n",
       "      <th>let</th>\n",
       "      <th>the</th>\n",
       "      <th>was</th>\n",
       "      <th>beginning</th>\n",
       "      <th>without</th>\n",
       "      <th>created</th>\n",
       "      <th>earth</th>\n",
       "      <th>said</th>\n",
       "      <th>void</th>\n",
       "      <th>that</th>\n",
       "    </tr>\n",
       "  </thead>\n",
       "  <tbody>\n",
       "    <tr>\n",
       "      <th>0</th>\n",
       "      <td>0.000000</td>\n",
       "      <td>0.0</td>\n",
       "      <td>0.055556</td>\n",
       "      <td>0.000000</td>\n",
       "      <td>0.055556</td>\n",
       "      <td>0.0</td>\n",
       "      <td>0.000000</td>\n",
       "      <td>0.000000</td>\n",
       "      <td>0.055556</td>\n",
       "      <td>0.000000</td>\n",
       "      <td>0.000000</td>\n",
       "      <td>0.0</td>\n",
       "      <td>0.0</td>\n",
       "      <td>0.055556</td>\n",
       "      <td>0.055556</td>\n",
       "      <td>0.055556</td>\n",
       "      <td>0.111111</td>\n",
       "      <td>0.000000</td>\n",
       "      <td>0.055556</td>\n",
       "      <td>0.000000</td>\n",
       "    </tr>\n",
       "    <tr>\n",
       "      <th>1</th>\n",
       "      <td>0.052632</td>\n",
       "      <td>0.0</td>\n",
       "      <td>0.000000</td>\n",
       "      <td>0.052632</td>\n",
       "      <td>0.000000</td>\n",
       "      <td>0.0</td>\n",
       "      <td>0.052632</td>\n",
       "      <td>0.157895</td>\n",
       "      <td>0.000000</td>\n",
       "      <td>0.105263</td>\n",
       "      <td>0.052632</td>\n",
       "      <td>0.0</td>\n",
       "      <td>0.0</td>\n",
       "      <td>0.000000</td>\n",
       "      <td>0.000000</td>\n",
       "      <td>0.000000</td>\n",
       "      <td>0.000000</td>\n",
       "      <td>0.052632</td>\n",
       "      <td>0.000000</td>\n",
       "      <td>0.052632</td>\n",
       "    </tr>\n",
       "  </tbody>\n",
       "</table>\n",
       "</div>"
      ],
      "text/plain": [
       "       good  god   heavens       saw        in  and        be     light  \\\n",
       "0  0.000000  0.0  0.055556  0.000000  0.055556  0.0  0.000000  0.000000   \n",
       "1  0.052632  0.0  0.000000  0.052632  0.000000  0.0  0.052632  0.157895   \n",
       "\n",
       "       form     there       let  the  was  beginning   without   created  \\\n",
       "0  0.055556  0.000000  0.000000  0.0  0.0   0.055556  0.055556  0.055556   \n",
       "1  0.000000  0.105263  0.052632  0.0  0.0   0.000000  0.000000  0.000000   \n",
       "\n",
       "      earth      said      void      that  \n",
       "0  0.111111  0.000000  0.055556  0.000000  \n",
       "1  0.000000  0.052632  0.000000  0.052632  "
      ]
     },
     "execution_count": 18,
     "metadata": {},
     "output_type": "execute_result"
    }
   ],
   "source": [
    "tfidf1 = TFIDF(tf1, idf_df)\n",
    "tfidf2 = TFIDF(tf2, idf_df)\n",
    "\n",
    "pd.DataFrame([tfidf1, tfidf2])"
   ]
  }
 ],
 "metadata": {
  "kernelspec": {
   "display_name": "nlp",
   "language": "python",
   "name": "python3"
  },
  "language_info": {
   "codemirror_mode": {
    "name": "ipython",
    "version": 3
   },
   "file_extension": ".py",
   "mimetype": "text/x-python",
   "name": "python",
   "nbconvert_exporter": "python",
   "pygments_lexer": "ipython3",
   "version": "3.12.4"
  }
 },
 "nbformat": 4,
 "nbformat_minor": 2
}
